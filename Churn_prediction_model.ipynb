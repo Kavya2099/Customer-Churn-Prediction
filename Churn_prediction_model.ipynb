{
  "nbformat": 4,
  "nbformat_minor": 0,
  "metadata": {
    "colab": {
      "provenance": [],
      "authorship_tag": "ABX9TyPZoAhb7VLRp7j9IWRDHx8v",
      "include_colab_link": true
    },
    "kernelspec": {
      "name": "python3",
      "display_name": "Python 3"
    },
    "language_info": {
      "name": "python"
    }
  },
  "cells": [
    {
      "cell_type": "markdown",
      "metadata": {
        "id": "view-in-github",
        "colab_type": "text"
      },
      "source": [
        "<a href=\"https://colab.research.google.com/github/Kavya2099/Customer-Churn-Prediction/blob/main/Churn_prediction_model.ipynb\" target=\"_parent\"><img src=\"https://colab.research.google.com/assets/colab-badge.svg\" alt=\"Open In Colab\"/></a>"
      ]
    },
    {
      "cell_type": "markdown",
      "source": [
        "get data"
      ],
      "metadata": {
        "id": "sphdWYiI5mXF"
      }
    },
    {
      "cell_type": "code",
      "execution_count": 37,
      "metadata": {
        "id": "N3ZXiswu1HrF",
        "colab": {
          "base_uri": "https://localhost:8080/",
          "height": 577
        },
        "outputId": "cc6b322d-84a7-48ce-dff0-061c083aac7e"
      },
      "outputs": [
        {
          "output_type": "stream",
          "name": "stdout",
          "text": [
            "--2022-11-23 20:34:00--  https://raw.githubusercontent.com/alexeygrigorev/mlbookcamp-code/master/chapter-03-churn-prediction/WA_Fn-UseC_-Telco-Customer-Churn.csv\n",
            "Resolving raw.githubusercontent.com (raw.githubusercontent.com)... 185.199.108.133, 185.199.111.133, 185.199.109.133, ...\n",
            "Connecting to raw.githubusercontent.com (raw.githubusercontent.com)|185.199.108.133|:443... connected.\n",
            "HTTP request sent, awaiting response... 200 OK\n",
            "Length: 977501 (955K) [text/plain]\n",
            "Saving to: ‘data-week-3.csv’\n",
            "\n",
            "data-week-3.csv     100%[===================>] 954.59K  --.-KB/s    in 0.06s   \n",
            "\n",
            "2022-11-23 20:34:00 (16.0 MB/s) - ‘data-week-3.csv’ saved [977501/977501]\n",
            "\n"
          ]
        },
        {
          "output_type": "execute_result",
          "data": {
            "text/plain": [
              "   customerID  gender  SeniorCitizen Partner Dependents  tenure PhoneService  \\\n",
              "0  7590-VHVEG  Female              0     Yes         No       1           No   \n",
              "1  5575-GNVDE    Male              0      No         No      34          Yes   \n",
              "2  3668-QPYBK    Male              0      No         No       2          Yes   \n",
              "3  7795-CFOCW    Male              0      No         No      45           No   \n",
              "4  9237-HQITU  Female              0      No         No       2          Yes   \n",
              "\n",
              "      MultipleLines InternetService OnlineSecurity  ... DeviceProtection  \\\n",
              "0  No phone service             DSL             No  ...               No   \n",
              "1                No             DSL            Yes  ...              Yes   \n",
              "2                No             DSL            Yes  ...               No   \n",
              "3  No phone service             DSL            Yes  ...              Yes   \n",
              "4                No     Fiber optic             No  ...               No   \n",
              "\n",
              "  TechSupport StreamingTV StreamingMovies        Contract PaperlessBilling  \\\n",
              "0          No          No              No  Month-to-month              Yes   \n",
              "1          No          No              No        One year               No   \n",
              "2          No          No              No  Month-to-month              Yes   \n",
              "3         Yes          No              No        One year               No   \n",
              "4          No          No              No  Month-to-month              Yes   \n",
              "\n",
              "               PaymentMethod MonthlyCharges  TotalCharges Churn  \n",
              "0           Electronic check          29.85         29.85    No  \n",
              "1               Mailed check          56.95        1889.5    No  \n",
              "2               Mailed check          53.85        108.15   Yes  \n",
              "3  Bank transfer (automatic)          42.30       1840.75    No  \n",
              "4           Electronic check          70.70        151.65   Yes  \n",
              "\n",
              "[5 rows x 21 columns]"
            ],
            "text/html": [
              "\n",
              "  <div id=\"df-c06ac53b-198f-4261-899d-42239532fab7\">\n",
              "    <div class=\"colab-df-container\">\n",
              "      <div>\n",
              "<style scoped>\n",
              "    .dataframe tbody tr th:only-of-type {\n",
              "        vertical-align: middle;\n",
              "    }\n",
              "\n",
              "    .dataframe tbody tr th {\n",
              "        vertical-align: top;\n",
              "    }\n",
              "\n",
              "    .dataframe thead th {\n",
              "        text-align: right;\n",
              "    }\n",
              "</style>\n",
              "<table border=\"1\" class=\"dataframe\">\n",
              "  <thead>\n",
              "    <tr style=\"text-align: right;\">\n",
              "      <th></th>\n",
              "      <th>customerID</th>\n",
              "      <th>gender</th>\n",
              "      <th>SeniorCitizen</th>\n",
              "      <th>Partner</th>\n",
              "      <th>Dependents</th>\n",
              "      <th>tenure</th>\n",
              "      <th>PhoneService</th>\n",
              "      <th>MultipleLines</th>\n",
              "      <th>InternetService</th>\n",
              "      <th>OnlineSecurity</th>\n",
              "      <th>...</th>\n",
              "      <th>DeviceProtection</th>\n",
              "      <th>TechSupport</th>\n",
              "      <th>StreamingTV</th>\n",
              "      <th>StreamingMovies</th>\n",
              "      <th>Contract</th>\n",
              "      <th>PaperlessBilling</th>\n",
              "      <th>PaymentMethod</th>\n",
              "      <th>MonthlyCharges</th>\n",
              "      <th>TotalCharges</th>\n",
              "      <th>Churn</th>\n",
              "    </tr>\n",
              "  </thead>\n",
              "  <tbody>\n",
              "    <tr>\n",
              "      <th>0</th>\n",
              "      <td>7590-VHVEG</td>\n",
              "      <td>Female</td>\n",
              "      <td>0</td>\n",
              "      <td>Yes</td>\n",
              "      <td>No</td>\n",
              "      <td>1</td>\n",
              "      <td>No</td>\n",
              "      <td>No phone service</td>\n",
              "      <td>DSL</td>\n",
              "      <td>No</td>\n",
              "      <td>...</td>\n",
              "      <td>No</td>\n",
              "      <td>No</td>\n",
              "      <td>No</td>\n",
              "      <td>No</td>\n",
              "      <td>Month-to-month</td>\n",
              "      <td>Yes</td>\n",
              "      <td>Electronic check</td>\n",
              "      <td>29.85</td>\n",
              "      <td>29.85</td>\n",
              "      <td>No</td>\n",
              "    </tr>\n",
              "    <tr>\n",
              "      <th>1</th>\n",
              "      <td>5575-GNVDE</td>\n",
              "      <td>Male</td>\n",
              "      <td>0</td>\n",
              "      <td>No</td>\n",
              "      <td>No</td>\n",
              "      <td>34</td>\n",
              "      <td>Yes</td>\n",
              "      <td>No</td>\n",
              "      <td>DSL</td>\n",
              "      <td>Yes</td>\n",
              "      <td>...</td>\n",
              "      <td>Yes</td>\n",
              "      <td>No</td>\n",
              "      <td>No</td>\n",
              "      <td>No</td>\n",
              "      <td>One year</td>\n",
              "      <td>No</td>\n",
              "      <td>Mailed check</td>\n",
              "      <td>56.95</td>\n",
              "      <td>1889.5</td>\n",
              "      <td>No</td>\n",
              "    </tr>\n",
              "    <tr>\n",
              "      <th>2</th>\n",
              "      <td>3668-QPYBK</td>\n",
              "      <td>Male</td>\n",
              "      <td>0</td>\n",
              "      <td>No</td>\n",
              "      <td>No</td>\n",
              "      <td>2</td>\n",
              "      <td>Yes</td>\n",
              "      <td>No</td>\n",
              "      <td>DSL</td>\n",
              "      <td>Yes</td>\n",
              "      <td>...</td>\n",
              "      <td>No</td>\n",
              "      <td>No</td>\n",
              "      <td>No</td>\n",
              "      <td>No</td>\n",
              "      <td>Month-to-month</td>\n",
              "      <td>Yes</td>\n",
              "      <td>Mailed check</td>\n",
              "      <td>53.85</td>\n",
              "      <td>108.15</td>\n",
              "      <td>Yes</td>\n",
              "    </tr>\n",
              "    <tr>\n",
              "      <th>3</th>\n",
              "      <td>7795-CFOCW</td>\n",
              "      <td>Male</td>\n",
              "      <td>0</td>\n",
              "      <td>No</td>\n",
              "      <td>No</td>\n",
              "      <td>45</td>\n",
              "      <td>No</td>\n",
              "      <td>No phone service</td>\n",
              "      <td>DSL</td>\n",
              "      <td>Yes</td>\n",
              "      <td>...</td>\n",
              "      <td>Yes</td>\n",
              "      <td>Yes</td>\n",
              "      <td>No</td>\n",
              "      <td>No</td>\n",
              "      <td>One year</td>\n",
              "      <td>No</td>\n",
              "      <td>Bank transfer (automatic)</td>\n",
              "      <td>42.30</td>\n",
              "      <td>1840.75</td>\n",
              "      <td>No</td>\n",
              "    </tr>\n",
              "    <tr>\n",
              "      <th>4</th>\n",
              "      <td>9237-HQITU</td>\n",
              "      <td>Female</td>\n",
              "      <td>0</td>\n",
              "      <td>No</td>\n",
              "      <td>No</td>\n",
              "      <td>2</td>\n",
              "      <td>Yes</td>\n",
              "      <td>No</td>\n",
              "      <td>Fiber optic</td>\n",
              "      <td>No</td>\n",
              "      <td>...</td>\n",
              "      <td>No</td>\n",
              "      <td>No</td>\n",
              "      <td>No</td>\n",
              "      <td>No</td>\n",
              "      <td>Month-to-month</td>\n",
              "      <td>Yes</td>\n",
              "      <td>Electronic check</td>\n",
              "      <td>70.70</td>\n",
              "      <td>151.65</td>\n",
              "      <td>Yes</td>\n",
              "    </tr>\n",
              "  </tbody>\n",
              "</table>\n",
              "<p>5 rows × 21 columns</p>\n",
              "</div>\n",
              "      <button class=\"colab-df-convert\" onclick=\"convertToInteractive('df-c06ac53b-198f-4261-899d-42239532fab7')\"\n",
              "              title=\"Convert this dataframe to an interactive table.\"\n",
              "              style=\"display:none;\">\n",
              "        \n",
              "  <svg xmlns=\"http://www.w3.org/2000/svg\" height=\"24px\"viewBox=\"0 0 24 24\"\n",
              "       width=\"24px\">\n",
              "    <path d=\"M0 0h24v24H0V0z\" fill=\"none\"/>\n",
              "    <path d=\"M18.56 5.44l.94 2.06.94-2.06 2.06-.94-2.06-.94-.94-2.06-.94 2.06-2.06.94zm-11 1L8.5 8.5l.94-2.06 2.06-.94-2.06-.94L8.5 2.5l-.94 2.06-2.06.94zm10 10l.94 2.06.94-2.06 2.06-.94-2.06-.94-.94-2.06-.94 2.06-2.06.94z\"/><path d=\"M17.41 7.96l-1.37-1.37c-.4-.4-.92-.59-1.43-.59-.52 0-1.04.2-1.43.59L10.3 9.45l-7.72 7.72c-.78.78-.78 2.05 0 2.83L4 21.41c.39.39.9.59 1.41.59.51 0 1.02-.2 1.41-.59l7.78-7.78 2.81-2.81c.8-.78.8-2.07 0-2.86zM5.41 20L4 18.59l7.72-7.72 1.47 1.35L5.41 20z\"/>\n",
              "  </svg>\n",
              "      </button>\n",
              "      \n",
              "  <style>\n",
              "    .colab-df-container {\n",
              "      display:flex;\n",
              "      flex-wrap:wrap;\n",
              "      gap: 12px;\n",
              "    }\n",
              "\n",
              "    .colab-df-convert {\n",
              "      background-color: #E8F0FE;\n",
              "      border: none;\n",
              "      border-radius: 50%;\n",
              "      cursor: pointer;\n",
              "      display: none;\n",
              "      fill: #1967D2;\n",
              "      height: 32px;\n",
              "      padding: 0 0 0 0;\n",
              "      width: 32px;\n",
              "    }\n",
              "\n",
              "    .colab-df-convert:hover {\n",
              "      background-color: #E2EBFA;\n",
              "      box-shadow: 0px 1px 2px rgba(60, 64, 67, 0.3), 0px 1px 3px 1px rgba(60, 64, 67, 0.15);\n",
              "      fill: #174EA6;\n",
              "    }\n",
              "\n",
              "    [theme=dark] .colab-df-convert {\n",
              "      background-color: #3B4455;\n",
              "      fill: #D2E3FC;\n",
              "    }\n",
              "\n",
              "    [theme=dark] .colab-df-convert:hover {\n",
              "      background-color: #434B5C;\n",
              "      box-shadow: 0px 1px 3px 1px rgba(0, 0, 0, 0.15);\n",
              "      filter: drop-shadow(0px 1px 2px rgba(0, 0, 0, 0.3));\n",
              "      fill: #FFFFFF;\n",
              "    }\n",
              "  </style>\n",
              "\n",
              "      <script>\n",
              "        const buttonEl =\n",
              "          document.querySelector('#df-c06ac53b-198f-4261-899d-42239532fab7 button.colab-df-convert');\n",
              "        buttonEl.style.display =\n",
              "          google.colab.kernel.accessAllowed ? 'block' : 'none';\n",
              "\n",
              "        async function convertToInteractive(key) {\n",
              "          const element = document.querySelector('#df-c06ac53b-198f-4261-899d-42239532fab7');\n",
              "          const dataTable =\n",
              "            await google.colab.kernel.invokeFunction('convertToInteractive',\n",
              "                                                     [key], {});\n",
              "          if (!dataTable) return;\n",
              "\n",
              "          const docLinkHtml = 'Like what you see? Visit the ' +\n",
              "            '<a target=\"_blank\" href=https://colab.research.google.com/notebooks/data_table.ipynb>data table notebook</a>'\n",
              "            + ' to learn more about interactive tables.';\n",
              "          element.innerHTML = '';\n",
              "          dataTable['output_type'] = 'display_data';\n",
              "          await google.colab.output.renderOutput(dataTable, element);\n",
              "          const docLink = document.createElement('div');\n",
              "          docLink.innerHTML = docLinkHtml;\n",
              "          element.appendChild(docLink);\n",
              "        }\n",
              "      </script>\n",
              "    </div>\n",
              "  </div>\n",
              "  "
            ]
          },
          "metadata": {},
          "execution_count": 37
        }
      ],
      "source": [
        "%matplotlib inline\n",
        "\n",
        "import pandas as pd\n",
        "import numpy as np\n",
        "import matplotlib.pyplot as plt\n",
        "import seaborn as sns\n",
        "\n",
        "import warnings\n",
        "warnings.filterwarnings(\"ignore\")\n",
        "\n",
        "data = 'https://raw.githubusercontent.com/alexeygrigorev/mlbookcamp-code/master/chapter-03-churn-prediction/WA_Fn-UseC_-Telco-Customer-Churn.csv'\n",
        "\n",
        "!wget $data -O data-week-3.csv \n",
        "\n",
        "df= pd.read_csv('data-week-3.csv')\n",
        "\n",
        "df.head()"
      ]
    },
    {
      "cell_type": "code",
      "source": [
        "df.shape\n",
        "\n",
        "df.columns= df.columns.str.replace(\" \",\"_\").str.lower()\n",
        "df.columns\n",
        "\n",
        "strings= list(df.dtypes[df.dtypes=='object'].index)\n",
        "\n",
        "for col in strings:\n",
        "  df[col]= df[col].str.replace(\" \",\"_\").str.lower()\n",
        "\n",
        "df.head()"
      ],
      "metadata": {
        "colab": {
          "base_uri": "https://localhost:8080/",
          "height": 352
        },
        "id": "zKmzo1iR6ye_",
        "outputId": "8ee63722-b6ac-4c5f-d284-55555376232f"
      },
      "execution_count": 38,
      "outputs": [
        {
          "output_type": "execute_result",
          "data": {
            "text/plain": [
              "   customerid  gender  seniorcitizen partner dependents  tenure phoneservice  \\\n",
              "0  7590-vhveg  female              0     yes         no       1           no   \n",
              "1  5575-gnvde    male              0      no         no      34          yes   \n",
              "2  3668-qpybk    male              0      no         no       2          yes   \n",
              "3  7795-cfocw    male              0      no         no      45           no   \n",
              "4  9237-hqitu  female              0      no         no       2          yes   \n",
              "\n",
              "      multiplelines internetservice onlinesecurity  ... deviceprotection  \\\n",
              "0  no_phone_service             dsl             no  ...               no   \n",
              "1                no             dsl            yes  ...              yes   \n",
              "2                no             dsl            yes  ...               no   \n",
              "3  no_phone_service             dsl            yes  ...              yes   \n",
              "4                no     fiber_optic             no  ...               no   \n",
              "\n",
              "  techsupport streamingtv streamingmovies        contract paperlessbilling  \\\n",
              "0          no          no              no  month-to-month              yes   \n",
              "1          no          no              no        one_year               no   \n",
              "2          no          no              no  month-to-month              yes   \n",
              "3         yes          no              no        one_year               no   \n",
              "4          no          no              no  month-to-month              yes   \n",
              "\n",
              "               paymentmethod monthlycharges  totalcharges churn  \n",
              "0           electronic_check          29.85         29.85    no  \n",
              "1               mailed_check          56.95        1889.5    no  \n",
              "2               mailed_check          53.85        108.15   yes  \n",
              "3  bank_transfer_(automatic)          42.30       1840.75    no  \n",
              "4           electronic_check          70.70        151.65   yes  \n",
              "\n",
              "[5 rows x 21 columns]"
            ],
            "text/html": [
              "\n",
              "  <div id=\"df-767528fd-2bde-4756-b119-0bf016fc8a70\">\n",
              "    <div class=\"colab-df-container\">\n",
              "      <div>\n",
              "<style scoped>\n",
              "    .dataframe tbody tr th:only-of-type {\n",
              "        vertical-align: middle;\n",
              "    }\n",
              "\n",
              "    .dataframe tbody tr th {\n",
              "        vertical-align: top;\n",
              "    }\n",
              "\n",
              "    .dataframe thead th {\n",
              "        text-align: right;\n",
              "    }\n",
              "</style>\n",
              "<table border=\"1\" class=\"dataframe\">\n",
              "  <thead>\n",
              "    <tr style=\"text-align: right;\">\n",
              "      <th></th>\n",
              "      <th>customerid</th>\n",
              "      <th>gender</th>\n",
              "      <th>seniorcitizen</th>\n",
              "      <th>partner</th>\n",
              "      <th>dependents</th>\n",
              "      <th>tenure</th>\n",
              "      <th>phoneservice</th>\n",
              "      <th>multiplelines</th>\n",
              "      <th>internetservice</th>\n",
              "      <th>onlinesecurity</th>\n",
              "      <th>...</th>\n",
              "      <th>deviceprotection</th>\n",
              "      <th>techsupport</th>\n",
              "      <th>streamingtv</th>\n",
              "      <th>streamingmovies</th>\n",
              "      <th>contract</th>\n",
              "      <th>paperlessbilling</th>\n",
              "      <th>paymentmethod</th>\n",
              "      <th>monthlycharges</th>\n",
              "      <th>totalcharges</th>\n",
              "      <th>churn</th>\n",
              "    </tr>\n",
              "  </thead>\n",
              "  <tbody>\n",
              "    <tr>\n",
              "      <th>0</th>\n",
              "      <td>7590-vhveg</td>\n",
              "      <td>female</td>\n",
              "      <td>0</td>\n",
              "      <td>yes</td>\n",
              "      <td>no</td>\n",
              "      <td>1</td>\n",
              "      <td>no</td>\n",
              "      <td>no_phone_service</td>\n",
              "      <td>dsl</td>\n",
              "      <td>no</td>\n",
              "      <td>...</td>\n",
              "      <td>no</td>\n",
              "      <td>no</td>\n",
              "      <td>no</td>\n",
              "      <td>no</td>\n",
              "      <td>month-to-month</td>\n",
              "      <td>yes</td>\n",
              "      <td>electronic_check</td>\n",
              "      <td>29.85</td>\n",
              "      <td>29.85</td>\n",
              "      <td>no</td>\n",
              "    </tr>\n",
              "    <tr>\n",
              "      <th>1</th>\n",
              "      <td>5575-gnvde</td>\n",
              "      <td>male</td>\n",
              "      <td>0</td>\n",
              "      <td>no</td>\n",
              "      <td>no</td>\n",
              "      <td>34</td>\n",
              "      <td>yes</td>\n",
              "      <td>no</td>\n",
              "      <td>dsl</td>\n",
              "      <td>yes</td>\n",
              "      <td>...</td>\n",
              "      <td>yes</td>\n",
              "      <td>no</td>\n",
              "      <td>no</td>\n",
              "      <td>no</td>\n",
              "      <td>one_year</td>\n",
              "      <td>no</td>\n",
              "      <td>mailed_check</td>\n",
              "      <td>56.95</td>\n",
              "      <td>1889.5</td>\n",
              "      <td>no</td>\n",
              "    </tr>\n",
              "    <tr>\n",
              "      <th>2</th>\n",
              "      <td>3668-qpybk</td>\n",
              "      <td>male</td>\n",
              "      <td>0</td>\n",
              "      <td>no</td>\n",
              "      <td>no</td>\n",
              "      <td>2</td>\n",
              "      <td>yes</td>\n",
              "      <td>no</td>\n",
              "      <td>dsl</td>\n",
              "      <td>yes</td>\n",
              "      <td>...</td>\n",
              "      <td>no</td>\n",
              "      <td>no</td>\n",
              "      <td>no</td>\n",
              "      <td>no</td>\n",
              "      <td>month-to-month</td>\n",
              "      <td>yes</td>\n",
              "      <td>mailed_check</td>\n",
              "      <td>53.85</td>\n",
              "      <td>108.15</td>\n",
              "      <td>yes</td>\n",
              "    </tr>\n",
              "    <tr>\n",
              "      <th>3</th>\n",
              "      <td>7795-cfocw</td>\n",
              "      <td>male</td>\n",
              "      <td>0</td>\n",
              "      <td>no</td>\n",
              "      <td>no</td>\n",
              "      <td>45</td>\n",
              "      <td>no</td>\n",
              "      <td>no_phone_service</td>\n",
              "      <td>dsl</td>\n",
              "      <td>yes</td>\n",
              "      <td>...</td>\n",
              "      <td>yes</td>\n",
              "      <td>yes</td>\n",
              "      <td>no</td>\n",
              "      <td>no</td>\n",
              "      <td>one_year</td>\n",
              "      <td>no</td>\n",
              "      <td>bank_transfer_(automatic)</td>\n",
              "      <td>42.30</td>\n",
              "      <td>1840.75</td>\n",
              "      <td>no</td>\n",
              "    </tr>\n",
              "    <tr>\n",
              "      <th>4</th>\n",
              "      <td>9237-hqitu</td>\n",
              "      <td>female</td>\n",
              "      <td>0</td>\n",
              "      <td>no</td>\n",
              "      <td>no</td>\n",
              "      <td>2</td>\n",
              "      <td>yes</td>\n",
              "      <td>no</td>\n",
              "      <td>fiber_optic</td>\n",
              "      <td>no</td>\n",
              "      <td>...</td>\n",
              "      <td>no</td>\n",
              "      <td>no</td>\n",
              "      <td>no</td>\n",
              "      <td>no</td>\n",
              "      <td>month-to-month</td>\n",
              "      <td>yes</td>\n",
              "      <td>electronic_check</td>\n",
              "      <td>70.70</td>\n",
              "      <td>151.65</td>\n",
              "      <td>yes</td>\n",
              "    </tr>\n",
              "  </tbody>\n",
              "</table>\n",
              "<p>5 rows × 21 columns</p>\n",
              "</div>\n",
              "      <button class=\"colab-df-convert\" onclick=\"convertToInteractive('df-767528fd-2bde-4756-b119-0bf016fc8a70')\"\n",
              "              title=\"Convert this dataframe to an interactive table.\"\n",
              "              style=\"display:none;\">\n",
              "        \n",
              "  <svg xmlns=\"http://www.w3.org/2000/svg\" height=\"24px\"viewBox=\"0 0 24 24\"\n",
              "       width=\"24px\">\n",
              "    <path d=\"M0 0h24v24H0V0z\" fill=\"none\"/>\n",
              "    <path d=\"M18.56 5.44l.94 2.06.94-2.06 2.06-.94-2.06-.94-.94-2.06-.94 2.06-2.06.94zm-11 1L8.5 8.5l.94-2.06 2.06-.94-2.06-.94L8.5 2.5l-.94 2.06-2.06.94zm10 10l.94 2.06.94-2.06 2.06-.94-2.06-.94-.94-2.06-.94 2.06-2.06.94z\"/><path d=\"M17.41 7.96l-1.37-1.37c-.4-.4-.92-.59-1.43-.59-.52 0-1.04.2-1.43.59L10.3 9.45l-7.72 7.72c-.78.78-.78 2.05 0 2.83L4 21.41c.39.39.9.59 1.41.59.51 0 1.02-.2 1.41-.59l7.78-7.78 2.81-2.81c.8-.78.8-2.07 0-2.86zM5.41 20L4 18.59l7.72-7.72 1.47 1.35L5.41 20z\"/>\n",
              "  </svg>\n",
              "      </button>\n",
              "      \n",
              "  <style>\n",
              "    .colab-df-container {\n",
              "      display:flex;\n",
              "      flex-wrap:wrap;\n",
              "      gap: 12px;\n",
              "    }\n",
              "\n",
              "    .colab-df-convert {\n",
              "      background-color: #E8F0FE;\n",
              "      border: none;\n",
              "      border-radius: 50%;\n",
              "      cursor: pointer;\n",
              "      display: none;\n",
              "      fill: #1967D2;\n",
              "      height: 32px;\n",
              "      padding: 0 0 0 0;\n",
              "      width: 32px;\n",
              "    }\n",
              "\n",
              "    .colab-df-convert:hover {\n",
              "      background-color: #E2EBFA;\n",
              "      box-shadow: 0px 1px 2px rgba(60, 64, 67, 0.3), 0px 1px 3px 1px rgba(60, 64, 67, 0.15);\n",
              "      fill: #174EA6;\n",
              "    }\n",
              "\n",
              "    [theme=dark] .colab-df-convert {\n",
              "      background-color: #3B4455;\n",
              "      fill: #D2E3FC;\n",
              "    }\n",
              "\n",
              "    [theme=dark] .colab-df-convert:hover {\n",
              "      background-color: #434B5C;\n",
              "      box-shadow: 0px 1px 3px 1px rgba(0, 0, 0, 0.15);\n",
              "      filter: drop-shadow(0px 1px 2px rgba(0, 0, 0, 0.3));\n",
              "      fill: #FFFFFF;\n",
              "    }\n",
              "  </style>\n",
              "\n",
              "      <script>\n",
              "        const buttonEl =\n",
              "          document.querySelector('#df-767528fd-2bde-4756-b119-0bf016fc8a70 button.colab-df-convert');\n",
              "        buttonEl.style.display =\n",
              "          google.colab.kernel.accessAllowed ? 'block' : 'none';\n",
              "\n",
              "        async function convertToInteractive(key) {\n",
              "          const element = document.querySelector('#df-767528fd-2bde-4756-b119-0bf016fc8a70');\n",
              "          const dataTable =\n",
              "            await google.colab.kernel.invokeFunction('convertToInteractive',\n",
              "                                                     [key], {});\n",
              "          if (!dataTable) return;\n",
              "\n",
              "          const docLinkHtml = 'Like what you see? Visit the ' +\n",
              "            '<a target=\"_blank\" href=https://colab.research.google.com/notebooks/data_table.ipynb>data table notebook</a>'\n",
              "            + ' to learn more about interactive tables.';\n",
              "          element.innerHTML = '';\n",
              "          dataTable['output_type'] = 'display_data';\n",
              "          await google.colab.output.renderOutput(dataTable, element);\n",
              "          const docLink = document.createElement('div');\n",
              "          docLink.innerHTML = docLinkHtml;\n",
              "          element.appendChild(docLink);\n",
              "        }\n",
              "      </script>\n",
              "    </div>\n",
              "  </div>\n",
              "  "
            ]
          },
          "metadata": {},
          "execution_count": 38
        }
      ]
    },
    {
      "cell_type": "code",
      "source": [
        "df.dtypes\n"
      ],
      "metadata": {
        "colab": {
          "base_uri": "https://localhost:8080/"
        },
        "id": "vaXA37rF-rDu",
        "outputId": "6f325a9d-de82-4405-e980-8ef17db9538c"
      },
      "execution_count": 39,
      "outputs": [
        {
          "output_type": "execute_result",
          "data": {
            "text/plain": [
              "customerid           object\n",
              "gender               object\n",
              "seniorcitizen         int64\n",
              "partner              object\n",
              "dependents           object\n",
              "tenure                int64\n",
              "phoneservice         object\n",
              "multiplelines        object\n",
              "internetservice      object\n",
              "onlinesecurity       object\n",
              "onlinebackup         object\n",
              "deviceprotection     object\n",
              "techsupport          object\n",
              "streamingtv          object\n",
              "streamingmovies      object\n",
              "contract             object\n",
              "paperlessbilling     object\n",
              "paymentmethod        object\n",
              "monthlycharges      float64\n",
              "totalcharges         object\n",
              "churn                object\n",
              "dtype: object"
            ]
          },
          "metadata": {},
          "execution_count": 39
        }
      ]
    },
    {
      "cell_type": "markdown",
      "source": [
        "Changing the data type of monthly charges and churn columns to int"
      ],
      "metadata": {
        "id": "kfkbxknF8hUI"
      }
    },
    {
      "cell_type": "code",
      "source": [
        "df.monthlycharges = df.monthlycharges.astype('int')\n",
        "df.monthlycharges\n",
        "df.churn = (df.churn=='yes').astype('int')\n",
        "df.monthlycharges.dtype"
      ],
      "metadata": {
        "colab": {
          "base_uri": "https://localhost:8080/"
        },
        "id": "YlVpd1uJ_Asz",
        "outputId": "bb34954c-d2ae-4865-cc86-b9d17f9e3485"
      },
      "execution_count": 40,
      "outputs": [
        {
          "output_type": "execute_result",
          "data": {
            "text/plain": [
              "dtype('int64')"
            ]
          },
          "metadata": {},
          "execution_count": 40
        }
      ]
    },
    {
      "cell_type": "markdown",
      "source": [
        "Setting up the validation framework\n",
        "\n",
        "spliting train, val and test data sets"
      ],
      "metadata": {
        "id": "t4Z6kHtyAFC1"
      }
    },
    {
      "cell_type": "code",
      "source": [
        "X= df.drop(['churn'],axis=1)\n",
        "y= df.churn\n",
        "\n",
        "from sklearn.model_selection import train_test_split\n",
        "\n",
        "def split(X,y):\n",
        "\n",
        "\n",
        "  full_X_train, X_val, full_y_train, y_val = train_test_split(X,y,test_size=0.2, random_state=0)\n",
        "  X_train, X_test, y_train , y_test = train_test_split(full_X_train,full_y_train,test_size=0.25, random_state=0)\n",
        "  return (X_train, X_val, y_train , y_val)\n",
        "\n",
        "\n"
      ],
      "metadata": {
        "id": "6oghLvAOAGF7"
      },
      "execution_count": 41,
      "outputs": []
    },
    {
      "cell_type": "code",
      "source": [
        "#len(X_train),len(X_val),len(X_test)"
      ],
      "metadata": {
        "id": "t0BiNiYf9zd7"
      },
      "execution_count": 42,
      "outputs": []
    },
    {
      "cell_type": "markdown",
      "source": [
        "Exploratory data analysis\n",
        "\n",
        "Checking for missing values"
      ],
      "metadata": {
        "id": "31fPSXzY-BCv"
      }
    },
    {
      "cell_type": "code",
      "source": [
        "df.isnull().sum()"
      ],
      "metadata": {
        "colab": {
          "base_uri": "https://localhost:8080/"
        },
        "id": "jttRe7ipA-hk",
        "outputId": "a2af3df8-c690-4e58-9f8b-82390e67a55c"
      },
      "execution_count": 43,
      "outputs": [
        {
          "output_type": "execute_result",
          "data": {
            "text/plain": [
              "customerid          0\n",
              "gender              0\n",
              "seniorcitizen       0\n",
              "partner             0\n",
              "dependents          0\n",
              "tenure              0\n",
              "phoneservice        0\n",
              "multiplelines       0\n",
              "internetservice     0\n",
              "onlinesecurity      0\n",
              "onlinebackup        0\n",
              "deviceprotection    0\n",
              "techsupport         0\n",
              "streamingtv         0\n",
              "streamingmovies     0\n",
              "contract            0\n",
              "paperlessbilling    0\n",
              "paymentmethod       0\n",
              "monthlycharges      0\n",
              "totalcharges        0\n",
              "churn               0\n",
              "dtype: int64"
            ]
          },
          "metadata": {},
          "execution_count": 43
        }
      ]
    },
    {
      "cell_type": "markdown",
      "source": [
        "There is no null values.\n",
        "1st method. Doing random forest by taking all features"
      ],
      "metadata": {
        "id": "JuesyGZmBzd9"
      }
    },
    {
      "cell_type": "code",
      "source": [
        "from sklearn.ensemble import RandomForestClassifier\n",
        "from sklearn.metrics import mean_squared_error\n",
        "from sklearn.metrics import mean_absolute_error\n",
        "from sklearn.metrics import accuracy_score\n",
        "\n",
        "#defining random forest model\n",
        "def randommodel(X_train, X_val, y_train , y_val):\n",
        "  model1= RandomForestClassifier(random_state=0)\n",
        "  model1.fit(X_train, y_train)\n",
        "  pred = model1.predict(X_val)\n",
        "\n",
        "  \n",
        "  print('ACCURACY: ',accuracy_score(y_val,pred)*100)\n",
        "  \n",
        "\n",
        "# calling model with all features\n",
        "X= df.drop(['churn'],axis=1)\n",
        "y= df.churn\n",
        "X_train, X_val, y_train , y_val = split(X,y)\n",
        "#model(X_train, X_val, y_train , y_val)\n",
        "\n",
        "\n"
      ],
      "metadata": {
        "id": "WdMQzPL1BQ2s"
      },
      "execution_count": 44,
      "outputs": []
    },
    {
      "cell_type": "markdown",
      "source": [
        "As we can see we are getting error:\n",
        "1.   ValueError: could not convert string to float: '7544-zvikx'\n",
        "\n",
        "So we have to either drop this feature (customer id)or factorize/hot encode  the feature\n",
        "\n"
      ],
      "metadata": {
        "id": "7qLUFQ86LUvO"
      }
    },
    {
      "cell_type": "code",
      "source": [
        "df.head()"
      ],
      "metadata": {
        "colab": {
          "base_uri": "https://localhost:8080/",
          "height": 352
        },
        "id": "Z6epIUQDLkvv",
        "outputId": "256253fe-b79f-44b2-9868-5ec7c4ac33ab"
      },
      "execution_count": 45,
      "outputs": [
        {
          "output_type": "execute_result",
          "data": {
            "text/plain": [
              "   customerid  gender  seniorcitizen partner dependents  tenure phoneservice  \\\n",
              "0  7590-vhveg  female              0     yes         no       1           no   \n",
              "1  5575-gnvde    male              0      no         no      34          yes   \n",
              "2  3668-qpybk    male              0      no         no       2          yes   \n",
              "3  7795-cfocw    male              0      no         no      45           no   \n",
              "4  9237-hqitu  female              0      no         no       2          yes   \n",
              "\n",
              "      multiplelines internetservice onlinesecurity  ... deviceprotection  \\\n",
              "0  no_phone_service             dsl             no  ...               no   \n",
              "1                no             dsl            yes  ...              yes   \n",
              "2                no             dsl            yes  ...               no   \n",
              "3  no_phone_service             dsl            yes  ...              yes   \n",
              "4                no     fiber_optic             no  ...               no   \n",
              "\n",
              "  techsupport streamingtv streamingmovies        contract paperlessbilling  \\\n",
              "0          no          no              no  month-to-month              yes   \n",
              "1          no          no              no        one_year               no   \n",
              "2          no          no              no  month-to-month              yes   \n",
              "3         yes          no              no        one_year               no   \n",
              "4          no          no              no  month-to-month              yes   \n",
              "\n",
              "               paymentmethod monthlycharges  totalcharges churn  \n",
              "0           electronic_check             29         29.85     0  \n",
              "1               mailed_check             56        1889.5     0  \n",
              "2               mailed_check             53        108.15     1  \n",
              "3  bank_transfer_(automatic)             42       1840.75     0  \n",
              "4           electronic_check             70        151.65     1  \n",
              "\n",
              "[5 rows x 21 columns]"
            ],
            "text/html": [
              "\n",
              "  <div id=\"df-5a3d53f6-00ec-40e8-a9f9-81ab24bdc2db\">\n",
              "    <div class=\"colab-df-container\">\n",
              "      <div>\n",
              "<style scoped>\n",
              "    .dataframe tbody tr th:only-of-type {\n",
              "        vertical-align: middle;\n",
              "    }\n",
              "\n",
              "    .dataframe tbody tr th {\n",
              "        vertical-align: top;\n",
              "    }\n",
              "\n",
              "    .dataframe thead th {\n",
              "        text-align: right;\n",
              "    }\n",
              "</style>\n",
              "<table border=\"1\" class=\"dataframe\">\n",
              "  <thead>\n",
              "    <tr style=\"text-align: right;\">\n",
              "      <th></th>\n",
              "      <th>customerid</th>\n",
              "      <th>gender</th>\n",
              "      <th>seniorcitizen</th>\n",
              "      <th>partner</th>\n",
              "      <th>dependents</th>\n",
              "      <th>tenure</th>\n",
              "      <th>phoneservice</th>\n",
              "      <th>multiplelines</th>\n",
              "      <th>internetservice</th>\n",
              "      <th>onlinesecurity</th>\n",
              "      <th>...</th>\n",
              "      <th>deviceprotection</th>\n",
              "      <th>techsupport</th>\n",
              "      <th>streamingtv</th>\n",
              "      <th>streamingmovies</th>\n",
              "      <th>contract</th>\n",
              "      <th>paperlessbilling</th>\n",
              "      <th>paymentmethod</th>\n",
              "      <th>monthlycharges</th>\n",
              "      <th>totalcharges</th>\n",
              "      <th>churn</th>\n",
              "    </tr>\n",
              "  </thead>\n",
              "  <tbody>\n",
              "    <tr>\n",
              "      <th>0</th>\n",
              "      <td>7590-vhveg</td>\n",
              "      <td>female</td>\n",
              "      <td>0</td>\n",
              "      <td>yes</td>\n",
              "      <td>no</td>\n",
              "      <td>1</td>\n",
              "      <td>no</td>\n",
              "      <td>no_phone_service</td>\n",
              "      <td>dsl</td>\n",
              "      <td>no</td>\n",
              "      <td>...</td>\n",
              "      <td>no</td>\n",
              "      <td>no</td>\n",
              "      <td>no</td>\n",
              "      <td>no</td>\n",
              "      <td>month-to-month</td>\n",
              "      <td>yes</td>\n",
              "      <td>electronic_check</td>\n",
              "      <td>29</td>\n",
              "      <td>29.85</td>\n",
              "      <td>0</td>\n",
              "    </tr>\n",
              "    <tr>\n",
              "      <th>1</th>\n",
              "      <td>5575-gnvde</td>\n",
              "      <td>male</td>\n",
              "      <td>0</td>\n",
              "      <td>no</td>\n",
              "      <td>no</td>\n",
              "      <td>34</td>\n",
              "      <td>yes</td>\n",
              "      <td>no</td>\n",
              "      <td>dsl</td>\n",
              "      <td>yes</td>\n",
              "      <td>...</td>\n",
              "      <td>yes</td>\n",
              "      <td>no</td>\n",
              "      <td>no</td>\n",
              "      <td>no</td>\n",
              "      <td>one_year</td>\n",
              "      <td>no</td>\n",
              "      <td>mailed_check</td>\n",
              "      <td>56</td>\n",
              "      <td>1889.5</td>\n",
              "      <td>0</td>\n",
              "    </tr>\n",
              "    <tr>\n",
              "      <th>2</th>\n",
              "      <td>3668-qpybk</td>\n",
              "      <td>male</td>\n",
              "      <td>0</td>\n",
              "      <td>no</td>\n",
              "      <td>no</td>\n",
              "      <td>2</td>\n",
              "      <td>yes</td>\n",
              "      <td>no</td>\n",
              "      <td>dsl</td>\n",
              "      <td>yes</td>\n",
              "      <td>...</td>\n",
              "      <td>no</td>\n",
              "      <td>no</td>\n",
              "      <td>no</td>\n",
              "      <td>no</td>\n",
              "      <td>month-to-month</td>\n",
              "      <td>yes</td>\n",
              "      <td>mailed_check</td>\n",
              "      <td>53</td>\n",
              "      <td>108.15</td>\n",
              "      <td>1</td>\n",
              "    </tr>\n",
              "    <tr>\n",
              "      <th>3</th>\n",
              "      <td>7795-cfocw</td>\n",
              "      <td>male</td>\n",
              "      <td>0</td>\n",
              "      <td>no</td>\n",
              "      <td>no</td>\n",
              "      <td>45</td>\n",
              "      <td>no</td>\n",
              "      <td>no_phone_service</td>\n",
              "      <td>dsl</td>\n",
              "      <td>yes</td>\n",
              "      <td>...</td>\n",
              "      <td>yes</td>\n",
              "      <td>yes</td>\n",
              "      <td>no</td>\n",
              "      <td>no</td>\n",
              "      <td>one_year</td>\n",
              "      <td>no</td>\n",
              "      <td>bank_transfer_(automatic)</td>\n",
              "      <td>42</td>\n",
              "      <td>1840.75</td>\n",
              "      <td>0</td>\n",
              "    </tr>\n",
              "    <tr>\n",
              "      <th>4</th>\n",
              "      <td>9237-hqitu</td>\n",
              "      <td>female</td>\n",
              "      <td>0</td>\n",
              "      <td>no</td>\n",
              "      <td>no</td>\n",
              "      <td>2</td>\n",
              "      <td>yes</td>\n",
              "      <td>no</td>\n",
              "      <td>fiber_optic</td>\n",
              "      <td>no</td>\n",
              "      <td>...</td>\n",
              "      <td>no</td>\n",
              "      <td>no</td>\n",
              "      <td>no</td>\n",
              "      <td>no</td>\n",
              "      <td>month-to-month</td>\n",
              "      <td>yes</td>\n",
              "      <td>electronic_check</td>\n",
              "      <td>70</td>\n",
              "      <td>151.65</td>\n",
              "      <td>1</td>\n",
              "    </tr>\n",
              "  </tbody>\n",
              "</table>\n",
              "<p>5 rows × 21 columns</p>\n",
              "</div>\n",
              "      <button class=\"colab-df-convert\" onclick=\"convertToInteractive('df-5a3d53f6-00ec-40e8-a9f9-81ab24bdc2db')\"\n",
              "              title=\"Convert this dataframe to an interactive table.\"\n",
              "              style=\"display:none;\">\n",
              "        \n",
              "  <svg xmlns=\"http://www.w3.org/2000/svg\" height=\"24px\"viewBox=\"0 0 24 24\"\n",
              "       width=\"24px\">\n",
              "    <path d=\"M0 0h24v24H0V0z\" fill=\"none\"/>\n",
              "    <path d=\"M18.56 5.44l.94 2.06.94-2.06 2.06-.94-2.06-.94-.94-2.06-.94 2.06-2.06.94zm-11 1L8.5 8.5l.94-2.06 2.06-.94-2.06-.94L8.5 2.5l-.94 2.06-2.06.94zm10 10l.94 2.06.94-2.06 2.06-.94-2.06-.94-.94-2.06-.94 2.06-2.06.94z\"/><path d=\"M17.41 7.96l-1.37-1.37c-.4-.4-.92-.59-1.43-.59-.52 0-1.04.2-1.43.59L10.3 9.45l-7.72 7.72c-.78.78-.78 2.05 0 2.83L4 21.41c.39.39.9.59 1.41.59.51 0 1.02-.2 1.41-.59l7.78-7.78 2.81-2.81c.8-.78.8-2.07 0-2.86zM5.41 20L4 18.59l7.72-7.72 1.47 1.35L5.41 20z\"/>\n",
              "  </svg>\n",
              "      </button>\n",
              "      \n",
              "  <style>\n",
              "    .colab-df-container {\n",
              "      display:flex;\n",
              "      flex-wrap:wrap;\n",
              "      gap: 12px;\n",
              "    }\n",
              "\n",
              "    .colab-df-convert {\n",
              "      background-color: #E8F0FE;\n",
              "      border: none;\n",
              "      border-radius: 50%;\n",
              "      cursor: pointer;\n",
              "      display: none;\n",
              "      fill: #1967D2;\n",
              "      height: 32px;\n",
              "      padding: 0 0 0 0;\n",
              "      width: 32px;\n",
              "    }\n",
              "\n",
              "    .colab-df-convert:hover {\n",
              "      background-color: #E2EBFA;\n",
              "      box-shadow: 0px 1px 2px rgba(60, 64, 67, 0.3), 0px 1px 3px 1px rgba(60, 64, 67, 0.15);\n",
              "      fill: #174EA6;\n",
              "    }\n",
              "\n",
              "    [theme=dark] .colab-df-convert {\n",
              "      background-color: #3B4455;\n",
              "      fill: #D2E3FC;\n",
              "    }\n",
              "\n",
              "    [theme=dark] .colab-df-convert:hover {\n",
              "      background-color: #434B5C;\n",
              "      box-shadow: 0px 1px 3px 1px rgba(0, 0, 0, 0.15);\n",
              "      filter: drop-shadow(0px 1px 2px rgba(0, 0, 0, 0.3));\n",
              "      fill: #FFFFFF;\n",
              "    }\n",
              "  </style>\n",
              "\n",
              "      <script>\n",
              "        const buttonEl =\n",
              "          document.querySelector('#df-5a3d53f6-00ec-40e8-a9f9-81ab24bdc2db button.colab-df-convert');\n",
              "        buttonEl.style.display =\n",
              "          google.colab.kernel.accessAllowed ? 'block' : 'none';\n",
              "\n",
              "        async function convertToInteractive(key) {\n",
              "          const element = document.querySelector('#df-5a3d53f6-00ec-40e8-a9f9-81ab24bdc2db');\n",
              "          const dataTable =\n",
              "            await google.colab.kernel.invokeFunction('convertToInteractive',\n",
              "                                                     [key], {});\n",
              "          if (!dataTable) return;\n",
              "\n",
              "          const docLinkHtml = 'Like what you see? Visit the ' +\n",
              "            '<a target=\"_blank\" href=https://colab.research.google.com/notebooks/data_table.ipynb>data table notebook</a>'\n",
              "            + ' to learn more about interactive tables.';\n",
              "          element.innerHTML = '';\n",
              "          dataTable['output_type'] = 'display_data';\n",
              "          await google.colab.output.renderOutput(dataTable, element);\n",
              "          const docLink = document.createElement('div');\n",
              "          docLink.innerHTML = docLinkHtml;\n",
              "          element.appendChild(docLink);\n",
              "        }\n",
              "      </script>\n",
              "    </div>\n",
              "  </div>\n",
              "  "
            ]
          },
          "metadata": {},
          "execution_count": 45
        }
      ]
    },
    {
      "cell_type": "markdown",
      "source": [
        "As we can see there are lot of catergorical variables and numerical variables in df. \n",
        "\n",
        "1.   So we'll split them separately and for categorical features we will only use categorical features which has less than 10 unique features, since more than that may not be appear in validation/test test and it can create error\n",
        "\n",
        "\n"
      ],
      "metadata": {
        "id": "tqTekbrQMVSA"
      }
    },
    {
      "cell_type": "code",
      "source": [
        "# splitting numerical and categorical features\n",
        "\n",
        "\n",
        "num_cols = [col for col in X_train.columns if X_train[col].dtype in ['int64','float64']]\n",
        "print(num_cols)\n",
        "\n",
        "cat_cols= [col for col in X_train.columns if (X_train[col].dtype == 'object' and X_train[col].nunique() < 10)]\n",
        "print(cat_cols)\n",
        "\n",
        "#We'll only use these columns to train the model and validate the model\n",
        "\n",
        "cols = num_cols + cat_cols\n",
        "X_train_1 = X_train[cols]\n",
        "X_val_1 = X_val[cols]\n"
      ],
      "metadata": {
        "colab": {
          "base_uri": "https://localhost:8080/"
        },
        "id": "akJyS6PtM77B",
        "outputId": "ef65cc86-64f8-43f1-f17a-41446294fa1b"
      },
      "execution_count": 46,
      "outputs": [
        {
          "output_type": "stream",
          "name": "stdout",
          "text": [
            "['seniorcitizen', 'tenure', 'monthlycharges']\n",
            "['gender', 'partner', 'dependents', 'phoneservice', 'multiplelines', 'internetservice', 'onlinesecurity', 'onlinebackup', 'deviceprotection', 'techsupport', 'streamingtv', 'streamingmovies', 'contract', 'paperlessbilling', 'paymentmethod']\n"
          ]
        }
      ]
    },
    {
      "cell_type": "markdown",
      "source": [
        "Still, our problem hasn't solved, so now we'll train the model only using numerical feature and check the error output"
      ],
      "metadata": {
        "id": "2E1YJhKpPzZY"
      }
    },
    {
      "cell_type": "code",
      "source": [
        "X = df[num_cols]\n",
        "y = df['churn']\n",
        "\n",
        "#calling model1 with using numerical features\n",
        "\n",
        "X_train, X_val, y_train , y_val = split(X,y)\n",
        "randommodel(X_train, X_val, y_train , y_val)"
      ],
      "metadata": {
        "colab": {
          "base_uri": "https://localhost:8080/"
        },
        "id": "-YMdvQIwQur-",
        "outputId": "1dda0581-b66f-4d3e-aca0-1e542723da51"
      },
      "execution_count": 47,
      "outputs": [
        {
          "output_type": "stream",
          "name": "stdout",
          "text": [
            "ACCURACY:  74.59190915542938\n"
          ]
        }
      ]
    },
    {
      "cell_type": "markdown",
      "source": [
        "We got accuracy to be 74.59190915542938 for random forest classifier model.\n",
        "Now we'll try the same with logistic regression model"
      ],
      "metadata": {
        "id": "isMBbPCnbXOq"
      }
    },
    {
      "cell_type": "code",
      "source": [
        "from sklearn.linear_model import LogisticRegression  \n",
        "\n",
        "#defining logistic model\n",
        "def logisticmodel(X_train, X_val, y_train , y_val):\n",
        "  model1= LogisticRegression(max_iter=100)\n",
        "  model1.fit(X_train, y_train)\n",
        "  pred = model1.predict(X_val)\n",
        "\n",
        "  \n",
        "  print('ACCURACY: ',accuracy_score(y_val,pred)*100)"
      ],
      "metadata": {
        "id": "SoqrBRhGcBxf"
      },
      "execution_count": 48,
      "outputs": []
    },
    {
      "cell_type": "code",
      "source": [
        "X = df[num_cols]\n",
        "y = df['churn']\n",
        "\n",
        "#calling model1 with using numerical features\n",
        "\n",
        "X_train, X_val, y_train , y_val = split(X,y)\n",
        "logisticmodel(X_train, X_val, y_train , y_val)"
      ],
      "metadata": {
        "colab": {
          "base_uri": "https://localhost:8080/"
        },
        "id": "-FHtqQJlcjTI",
        "outputId": "6daa9004-0e5e-4b00-a449-d450fca0ea5e"
      },
      "execution_count": 49,
      "outputs": [
        {
          "output_type": "stream",
          "name": "stdout",
          "text": [
            "ACCURACY:  77.9985805535841\n"
          ]
        }
      ]
    },
    {
      "cell_type": "code",
      "source": [
        "from xgboost import XGBClassifier\n",
        "xgb_model = XGBClassifier()\n",
        "#one hot encoding\n",
        "X = df[num_cols]\n",
        "y = df['churn']\n",
        "X_train, X_val, y_train , y_val = split(X,y)\n",
        "\n",
        "xgb_model.fit(X_train, y_train)\n",
        "prediction_xgb = xgb_model.predict(X_val)\n",
        "print('ACCURACY: ',accuracy_score(y_val, prediction_xgb)*100)"
      ],
      "metadata": {
        "colab": {
          "base_uri": "https://localhost:8080/"
        },
        "id": "wNC64C9_IRcQ",
        "outputId": "faa7a9eb-8a5c-4c05-a948-2ed3eec0d589"
      },
      "execution_count": 50,
      "outputs": [
        {
          "output_type": "stream",
          "name": "stdout",
          "text": [
            "ACCURACY:  78.49538679914833\n"
          ]
        }
      ]
    },
    {
      "cell_type": "markdown",
      "source": [
        "So first level analysis\n",
        "\n",
        "with only using numerical features\n",
        "\n",
        "1. Random forest classifier = 74.59190915542938\n",
        "2. Logistic regression = 77.9985805535841\n",
        "3. XGB classifier = **78.49538679914833**"
      ],
      "metadata": {
        "id": "3Hc3OGH8cpwn"
      }
    },
    {
      "cell_type": "markdown",
      "source": [
        "Other ways to improve the model \n",
        "\n",
        "We'll be using feature importance analysis topics to impove the accuracy\n",
        "\n",
        "Mutual Information"
      ],
      "metadata": {
        "id": "-VHTCcAic42R"
      }
    },
    {
      "cell_type": "code",
      "source": [
        "#changing object dtype to int type using factorize \n",
        "X = df.drop(['churn'],axis=1)\n",
        "mi= X\n",
        "for col in mi.select_dtypes('object'):\n",
        "  mi[col],_ = mi[col].factorize()\n",
        "\n",
        "discrete_feature= mi.dtypes == int\n",
        "\n",
        "from sklearn.feature_selection import mutual_info_classif\n",
        "\n",
        "mi_scores = mutual_info_classif(mi,y)\n",
        "mi_scores= pd.Series(mi_scores, name='mi_scores',index=mi.columns)\n",
        "mi_scores= mi_scores.sort_values(ascending=False)\n",
        "print(mi_scores)"
      ],
      "metadata": {
        "colab": {
          "base_uri": "https://localhost:8080/"
        },
        "id": "R7xyQlRCpmuO",
        "outputId": "6ed03af9-2f05-4d01-b414-baa8974fb58b"
      },
      "execution_count": 51,
      "outputs": [
        {
          "output_type": "stream",
          "name": "stdout",
          "text": [
            "contract            0.098234\n",
            "tenure              0.078001\n",
            "onlinesecurity      0.062190\n",
            "techsupport         0.060203\n",
            "onlinebackup        0.057104\n",
            "internetservice     0.051725\n",
            "monthlycharges      0.045580\n",
            "paymentmethod       0.043483\n",
            "deviceprotection    0.043367\n",
            "streamingtv         0.040651\n",
            "streamingmovies     0.032840\n",
            "paperlessbilling    0.020188\n",
            "partner             0.013374\n",
            "multiplelines       0.006692\n",
            "seniorcitizen       0.006645\n",
            "dependents          0.004805\n",
            "phoneservice        0.004551\n",
            "gender              0.002124\n",
            "customerid          0.000000\n",
            "totalcharges        0.000000\n",
            "Name: mi_scores, dtype: float64\n"
          ]
        }
      ]
    },
    {
      "cell_type": "markdown",
      "source": [
        "Checking correlation with numerical variables"
      ],
      "metadata": {
        "id": "KaoOji6w-IPr"
      }
    },
    {
      "cell_type": "code",
      "source": [
        "# numerical variables\n",
        "\n",
        "df[num_cols].corrwith(df.churn)"
      ],
      "metadata": {
        "colab": {
          "base_uri": "https://localhost:8080/"
        },
        "id": "ARh8OzIE-M1w",
        "outputId": "ea71b721-af2e-4314-c525-6496c06d6942"
      },
      "execution_count": 52,
      "outputs": [
        {
          "output_type": "execute_result",
          "data": {
            "text/plain": [
              "seniorcitizen     0.150889\n",
              "tenure           -0.352229\n",
              "monthlycharges    0.193422\n",
              "dtype: float64"
            ]
          },
          "metadata": {},
          "execution_count": 52
        }
      ]
    },
    {
      "cell_type": "markdown",
      "source": [
        "This shows tenure has negative coreleation with churn rate and seniorcitizen and monthly charges has positive corelation with churn rate\n",
        "\n",
        "\n",
        "\n",
        "1.   High churn low tenure\n",
        "2.   High churn high monthly charges/senior citizen\n",
        "\n"
      ],
      "metadata": {
        "id": "zhaCG41Q_FrR"
      }
    },
    {
      "cell_type": "markdown",
      "source": [
        "Also, we have verified that features that has high MI is included in the cols[num+cat]"
      ],
      "metadata": {
        "id": "e0-Dd5m6Fy-_"
      }
    },
    {
      "cell_type": "markdown",
      "source": [
        "Next, we'll try XGB classifier with the num+cat\n",
        "\n",
        "### **XGB classifier with the num+cat**"
      ],
      "metadata": {
        "id": "Ot05Z3qoHDVu"
      }
    },
    {
      "cell_type": "code",
      "source": [
        "from xgboost import XGBClassifier\n",
        "xgb_model = XGBClassifier()\n",
        "#one hot encoding\n",
        "X= df[cols]\n",
        "X = pd.get_dummies(X, columns=cols)\n",
        "X_train, X_val, y_train , y_val = split(X,y)\n",
        "\n",
        "xgb_model.fit(X_train, y_train)\n",
        "prediction_xgb = xgb_model.predict(X_val)\n",
        "print('ACCURACY: ',accuracy_score(y_val, prediction_xgb)*100)"
      ],
      "metadata": {
        "colab": {
          "base_uri": "https://localhost:8080/"
        },
        "id": "UMW68dQmHIyM",
        "outputId": "5dbd99f1-fee1-43a2-982c-12f477dba2a5"
      },
      "execution_count": 53,
      "outputs": [
        {
          "output_type": "stream",
          "name": "stdout",
          "text": [
            "ACCURACY:  79.4889992902768\n"
          ]
        }
      ]
    },
    {
      "cell_type": "markdown",
      "source": [
        "XGB classifier gives 79.4889992902768"
      ],
      "metadata": {
        "id": "dHlcej-FcixK"
      }
    },
    {
      "cell_type": "markdown",
      "source": [
        "### **RF classifier with the num+cat**"
      ],
      "metadata": {
        "id": "LPevvgnxhQcD"
      }
    },
    {
      "cell_type": "code",
      "source": [
        "X= df[cols]\n",
        "X = pd.get_dummies(X, columns=cols)\n",
        "print(X.shape)\n",
        "X_train, X_val, y_train , y_val = split(X,y)\n",
        "print('random forest classifier')\n",
        "randommodel(X_train, X_val, y_train , y_val)\n"
      ],
      "metadata": {
        "colab": {
          "base_uri": "https://localhost:8080/"
        },
        "id": "S5EBL06OfKVM",
        "outputId": "7d015d6b-0bcc-40ae-ae79-565832df37a3"
      },
      "execution_count": 54,
      "outputs": [
        {
          "output_type": "stream",
          "name": "stdout",
          "text": [
            "(7043, 215)\n",
            "random forest classifier\n",
            "ACCURACY:  76.72107877927608\n"
          ]
        }
      ]
    },
    {
      "cell_type": "markdown",
      "source": [
        "### **Logistic Regression with the num+cat**"
      ],
      "metadata": {
        "id": "B923_4V5Jqbv"
      }
    },
    {
      "cell_type": "code",
      "source": [
        "X= df[cols]\n",
        "X = pd.get_dummies(X, columns=cols)\n",
        "X_train, X_val, y_train , y_val = split(X,y)\n",
        "print('logistic regressor')\n",
        "logisticmodel(X_train, X_val, y_train , y_val)"
      ],
      "metadata": {
        "colab": {
          "base_uri": "https://localhost:8080/"
        },
        "id": "LC9lKoCEfjlq",
        "outputId": "342aa159-8503-4c2b-9fb1-868b08932ca9"
      },
      "execution_count": 55,
      "outputs": [
        {
          "output_type": "stream",
          "name": "stdout",
          "text": [
            "logistic regressor\n",
            "ACCURACY:  78.99219304471256\n"
          ]
        }
      ]
    },
    {
      "cell_type": "markdown",
      "source": [
        "We'll just check what will be the case if we use all the features in XGB classifier instead of just all columns\n",
        "\n",
        "### **XGB with all columns**"
      ],
      "metadata": {
        "id": "GTXcfKircwgH"
      }
    },
    {
      "cell_type": "code",
      "source": [
        "from xgboost import XGBClassifier\n",
        "xgb_model = XGBClassifier()\n",
        "#one hot encoding\n",
        "X=df.drop(['churn'],axis=1)\n",
        "X = pd.get_dummies(X)\n",
        "X_train, X_val, y_train , y_val = split(X,y)\n",
        "\n",
        "xgb_model.fit(X_train, y_train)\n",
        "prediction_xgb = xgb_model.predict(X_val)\n",
        "print('ACCURACY: ',accuracy_score(y_val, prediction_xgb)*100)"
      ],
      "metadata": {
        "colab": {
          "base_uri": "https://localhost:8080/"
        },
        "id": "csHxbKdBc6j1",
        "outputId": "27b8ce7f-88f5-4260-f262-00edfe09c318"
      },
      "execution_count": 56,
      "outputs": [
        {
          "output_type": "stream",
          "name": "stdout",
          "text": [
            "ACCURACY:  78.85024840312278\n"
          ]
        }
      ]
    },
    {
      "cell_type": "markdown",
      "source": [
        "We'll just the same for RF and logistic regression\n",
        "\n",
        "### **RF with all columns**"
      ],
      "metadata": {
        "id": "LeYUbHjpecLc"
      }
    },
    {
      "cell_type": "code",
      "source": [
        "X=df.drop(['churn'],axis=1)\n",
        "X = pd.get_dummies(X)\n",
        "X_train, X_val, y_train , y_val = split(X,y)\n",
        "print('random forest classifier')\n",
        "randommodel(X_train, X_val, y_train , y_val)\n"
      ],
      "metadata": {
        "colab": {
          "base_uri": "https://localhost:8080/"
        },
        "id": "Y8eCpLJXejNi",
        "outputId": "8c3b39a3-6704-4651-e259-7b02002b194b"
      },
      "execution_count": 57,
      "outputs": [
        {
          "output_type": "stream",
          "name": "stdout",
          "text": [
            "random forest classifier\n",
            "ACCURACY:  78.49538679914833\n"
          ]
        }
      ]
    },
    {
      "cell_type": "markdown",
      "source": [
        "### **Logistic Regression with all columns**"
      ],
      "metadata": {
        "id": "fUXWO8r-J8H5"
      }
    },
    {
      "cell_type": "code",
      "source": [
        "X=df.drop(['churn'],axis=1)\n",
        "X = pd.get_dummies(X)\n",
        "print(X.shape)\n",
        "X_train, X_val, y_train , y_val = split(X,y)\n",
        "print('logistic regressor')\n",
        "logisticmodel(X_train, X_val, y_train , y_val)"
      ],
      "metadata": {
        "colab": {
          "base_uri": "https://localhost:8080/"
        },
        "id": "OhgJI2Pee1W7",
        "outputId": "2255c21f-d389-43a2-9daa-a99bba8454b4"
      },
      "execution_count": 58,
      "outputs": [
        {
          "output_type": "stream",
          "name": "stdout",
          "text": [
            "(7043, 13618)\n",
            "logistic regressor\n",
            "ACCURACY:  79.13413768630234\n"
          ]
        }
      ]
    },
    {
      "cell_type": "markdown",
      "source": [
        "***With only using numerical features***\n",
        "\n",
        " Random forest classifier = 74.59190915542938\n",
        " \n",
        " Logistic regression = 77.9985805535841\n",
        "\n",
        " XGB classifier = 78.49538679914833\n",
        "\n",
        "\n",
        "\n",
        "---\n",
        "\n",
        "\n",
        "---\n",
        "\n",
        "\n",
        "***With only using specific features***\n",
        "\n",
        "Random forest classifier = 76.72107877927608\n",
        "\n",
        "Logistic regression = 78.99219304471256\n",
        "\n",
        "**XGB classifier = 79.4889992902768**\n",
        "\n",
        "\n",
        "---\n",
        "\n",
        "\n",
        "\n",
        "\n",
        "\n",
        "---\n",
        "\n",
        "***With all features***\n",
        "\n",
        "Random forest classifier = 78.49538679914833\n",
        "\n",
        "Logistic regression = 79.13413768630234\n",
        "\n",
        "XGB classifier = 78.85024840312278"
      ],
      "metadata": {
        "id": "BsfEBLsKgg_6"
      }
    },
    {
      "cell_type": "markdown",
      "source": [
        "lets test the model\n",
        "\n",
        "we'll use pipeline with logistic regression as it gave the max accuracy"
      ],
      "metadata": {
        "id": "6Yv6UmgKV5yP"
      }
    },
    {
      "cell_type": "code",
      "source": [
        "\n",
        "X = df[cols]\n",
        "X = pd.get_dummies(X, columns=cols)\n",
        "#print(X.columns)\n",
        "y = df['churn']\n",
        "\n",
        "#calling model1 with using numerical features\n",
        "\n",
        "full_X_train, X_val, full_y_train, y_val = train_test_split(X,y,test_size=0.2, random_state=0)\n",
        "X_train, X_test, y_train , y_test = train_test_split(full_X_train,full_y_train,test_size=0.25, random_state=0)\n",
        "  \n",
        "\n",
        "print('logistic regressor')\n",
        "model1= LogisticRegression(max_iter=100)\n",
        "model1.fit(full_X_train, full_y_train)\n",
        "pred = model1.predict(X_test)\n",
        "#assigning pred to p variable to get the mean\n",
        "p=pred\n",
        "  \n",
        "print('ACCURACY: ',accuracy_score(y_test,pred)*100)\n"
      ],
      "metadata": {
        "colab": {
          "base_uri": "https://localhost:8080/"
        },
        "id": "p4xnb8pqZchw",
        "outputId": "7d929ed1-abe4-410c-eff8-2a8833c1e38a"
      },
      "execution_count": 68,
      "outputs": [
        {
          "output_type": "stream",
          "name": "stdout",
          "text": [
            "logistic regressor\n",
            "ACCURACY:  81.83108587650815\n"
          ]
        }
      ]
    },
    {
      "cell_type": "markdown",
      "source": [
        "Accuracy with test set 81.83108587650815\n",
        "\n"
      ],
      "metadata": {
        "id": "ybr29-XCiYlK"
      }
    },
    {
      "cell_type": "markdown",
      "source": [
        "Now lets check with single data"
      ],
      "metadata": {
        "id": "RC8zusD6ihfm"
      }
    },
    {
      "cell_type": "code",
      "source": [
        "# 10th data\n",
        "\n",
        "customer = X_test.iloc[10]\n",
        "customer"
      ],
      "metadata": {
        "colab": {
          "base_uri": "https://localhost:8080/"
        },
        "id": "jH-5_w6filUk",
        "outputId": "fd890283-4705-4d11-e6b5-102c9241dff6"
      },
      "execution_count": 61,
      "outputs": [
        {
          "output_type": "execute_result",
          "data": {
            "text/plain": [
              "seniorcitizen_0                            1\n",
              "seniorcitizen_1                            0\n",
              "tenure_0                                   0\n",
              "tenure_1                                   0\n",
              "tenure_2                                   0\n",
              "                                          ..\n",
              "paperlessbilling_yes                       1\n",
              "paymentmethod_bank_transfer_(automatic)    0\n",
              "paymentmethod_credit_card_(automatic)      0\n",
              "paymentmethod_electronic_check             1\n",
              "paymentmethod_mailed_check                 0\n",
              "Name: 1253, Length: 215, dtype: uint8"
            ]
          },
          "metadata": {},
          "execution_count": 61
        }
      ]
    },
    {
      "cell_type": "code",
      "source": [
        "customer.shape\n",
        "#(18,)\n",
        "# the reason we are changing it to dataframe is that single data record is considered as 18 rows and is in 1d. We cannot use that to predict the value. \n",
        "#So we are changing it to 2d using dataframe\n",
        "df_small = pd.DataFrame([customer])\n",
        "df_small.shape"
      ],
      "metadata": {
        "colab": {
          "base_uri": "https://localhost:8080/"
        },
        "id": "bsuvJWBJjYTt",
        "outputId": "a0594543-ceb8-4222-a096-c4989f287a08"
      },
      "execution_count": 62,
      "outputs": [
        {
          "output_type": "execute_result",
          "data": {
            "text/plain": [
              "(1, 215)"
            ]
          },
          "metadata": {},
          "execution_count": 62
        }
      ]
    },
    {
      "cell_type": "code",
      "source": [
        "preds = model1.predict(df_small)\n",
        "\n",
        "preds= int(preds)\n",
        "print(\"predicted value: \",preds)\n",
        "print(\"actual value: \",y_test.iloc[10])\n",
        "\n",
        "\n",
        "\n"
      ],
      "metadata": {
        "colab": {
          "base_uri": "https://localhost:8080/"
        },
        "id": "QGDYt3dblHfC",
        "outputId": "e0c6f2a5-3904-4dcd-95d7-b19bb977b9e6"
      },
      "execution_count": 63,
      "outputs": [
        {
          "output_type": "stream",
          "name": "stdout",
          "text": [
            "predicted value:  1\n",
            "actual value:  1\n"
          ]
        }
      ]
    },
    {
      "cell_type": "markdown",
      "source": [
        "We'll check for the last data"
      ],
      "metadata": {
        "id": "dgt2p7Ncm0kx"
      }
    },
    {
      "cell_type": "code",
      "source": [
        "customer = X_test.iloc[-1]\n",
        "\n",
        "df_small = pd.DataFrame([customer])\n",
        "df_small.shape\n",
        "\n",
        "preds = model1.predict(df_small)\n",
        "preds= int(preds)\n",
        "print(\"predicted value: \",preds)\n",
        "print(\"actual value: \",y_test.iloc[-1])"
      ],
      "metadata": {
        "colab": {
          "base_uri": "https://localhost:8080/"
        },
        "id": "hpX9huPgm4AR",
        "outputId": "f6c93ef4-229a-4fd9-aac8-f71afe628dab"
      },
      "execution_count": 64,
      "outputs": [
        {
          "output_type": "stream",
          "name": "stdout",
          "text": [
            "predicted value:  0\n",
            "actual value:  0\n"
          ]
        }
      ]
    },
    {
      "cell_type": "code",
      "source": [
        "y_test.mean()"
      ],
      "metadata": {
        "colab": {
          "base_uri": "https://localhost:8080/"
        },
        "id": "nQLex64BJBCc",
        "outputId": "33a3a664-231f-4186-c957-f7f738fbacef"
      },
      "execution_count": 65,
      "outputs": [
        {
          "output_type": "execute_result",
          "data": {
            "text/plain": [
              "0.2590489709013485"
            ]
          },
          "metadata": {},
          "execution_count": 65
        }
      ]
    },
    {
      "cell_type": "code",
      "source": [
        "1- y_test.mean()"
      ],
      "metadata": {
        "colab": {
          "base_uri": "https://localhost:8080/"
        },
        "id": "gWyNaG_sJLqr",
        "outputId": "2703a394-ae7c-4cec-c84e-24e344aa1fb7"
      },
      "execution_count": 66,
      "outputs": [
        {
          "output_type": "execute_result",
          "data": {
            "text/plain": [
              "0.7409510290986515"
            ]
          },
          "metadata": {},
          "execution_count": 66
        }
      ]
    },
    {
      "cell_type": "markdown",
      "source": [
        "in test data it is said that, 25.9 % people are likely to churn and 74% are not churning\n",
        "\n",
        "Lets check for model predicted value"
      ],
      "metadata": {
        "id": "DLFHnFsHJPrF"
      }
    },
    {
      "cell_type": "code",
      "source": [
        "p.mean()"
      ],
      "metadata": {
        "colab": {
          "base_uri": "https://localhost:8080/"
        },
        "id": "EXIYLvXLJkL0",
        "outputId": "5bf29c0c-382c-4cc3-e2ea-040e592a7cdd"
      },
      "execution_count": 69,
      "outputs": [
        {
          "output_type": "execute_result",
          "data": {
            "text/plain": [
              "0.20227111426543648"
            ]
          },
          "metadata": {},
          "execution_count": 69
        }
      ]
    },
    {
      "cell_type": "code",
      "source": [
        "1- p.mean()"
      ],
      "metadata": {
        "colab": {
          "base_uri": "https://localhost:8080/"
        },
        "id": "4niqIig5KiMY",
        "outputId": "aab22501-8625-427d-942e-97ae397ae79e"
      },
      "execution_count": 70,
      "outputs": [
        {
          "output_type": "execute_result",
          "data": {
            "text/plain": [
              "0.7977288857345635"
            ]
          },
          "metadata": {},
          "execution_count": 70
        }
      ]
    },
    {
      "cell_type": "markdown",
      "source": [
        "In our model, 20.2 % people are likely to churn and 79.7 % are not churning"
      ],
      "metadata": {
        "id": "u-J3UF4jKmhs"
      }
    }
  ]
}